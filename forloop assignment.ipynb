{
 "cells": [
  {
   "cell_type": "code",
   "execution_count": 1,
   "id": "5fc1a526",
   "metadata": {},
   "outputs": [],
   "source": [
    "# for loop Assignment\n",
    "# Basic Level:"
   ]
  },
  {
   "cell_type": "code",
   "execution_count": 2,
   "id": "3c254115",
   "metadata": {},
   "outputs": [
    {
     "name": "stdout",
     "output_type": "stream",
     "text": [
      "1\n",
      "2\n",
      "3\n",
      "4\n",
      "5\n",
      "6\n",
      "7\n",
      "8\n",
      "9\n",
      "10\n"
     ]
    }
   ],
   "source": [
    "# 1. Write a Python program to print the numbers from 1 to 10 using a `for` loop.\n",
    "a=0\n",
    "for i in range(10):\n",
    "    i += 1\n",
    "    print(i)"
   ]
  },
  {
   "cell_type": "code",
   "execution_count": 3,
   "id": "bdd10ab3",
   "metadata": {},
   "outputs": [
    {
     "name": "stdout",
     "output_type": "stream",
     "text": [
      "15\n"
     ]
    }
   ],
   "source": [
    "# 2. Create a program that calculates the sum of all numbers in a list using a `for` loop.\n",
    "v=[1,2,3,4,5]\n",
    "sum=0\n",
    "for i in v:\n",
    "    sum  +=i \n",
    "    \n",
    "    \n",
    "print(sum)  \n",
    "        \n",
    "    "
   ]
  },
  {
   "cell_type": "code",
   "execution_count": 4,
   "id": "6060260f",
   "metadata": {},
   "outputs": [
    {
     "name": "stdout",
     "output_type": "stream",
     "text": [
      "olleh\n"
     ]
    }
   ],
   "source": [
    "# 3. Write a program to print the characters of a string in reverse order using a `for` loop\n",
    "a=('hello')\n",
    "b=a[::-1]\n",
    "for num in a:\n",
    "    reverse=b\n",
    "    \n",
    "print(reverse)\n",
    "     \n",
    "    "
   ]
  },
  {
   "cell_type": "code",
   "execution_count": 5,
   "id": "5ce157bd",
   "metadata": {},
   "outputs": [
    {
     "name": "stdout",
     "output_type": "stream",
     "text": [
      "6\n"
     ]
    }
   ],
   "source": [
    "# 4. Develop a program that finds the factorial of a given number using a `for` loop.\n",
    "n=3\n",
    "fact=1\n",
    "for i in range(1,n+1):\n",
    "    fact=fact*i\n",
    "    \n",
    "print(fact)\n",
    "    "
   ]
  },
  {
   "cell_type": "code",
   "execution_count": 6,
   "id": "8d8afd9f",
   "metadata": {},
   "outputs": [
    {
     "name": "stdout",
     "output_type": "stream",
     "text": [
      "enter no2\n",
      "2 x 1=2\n",
      "2 x 2=4\n",
      "2 x 3=6\n",
      "2 x 4=8\n",
      "2 x 5=10\n",
      "2 x 6=12\n",
      "2 x 7=14\n",
      "2 x 8=16\n",
      "2 x 9=18\n",
      "2 x 10=20\n"
     ]
    }
   ],
   "source": [
    "# 5. Create a program to print the multiplication table of a given number using a `for` loop.\n",
    "num= int(input(\"enter no\"))\n",
    "for i in range(1,11):\n",
    "    print(f\"{num} x {i}={num*i}\" )"
   ]
  },
  {
   "cell_type": "code",
   "execution_count": 7,
   "id": "aeb0f4b7",
   "metadata": {},
   "outputs": [
    {
     "name": "stdout",
     "output_type": "stream",
     "text": [
      "evencount is 5\n",
      "oddcount is 5\n"
     ]
    }
   ],
   "source": [
    "# 6.Write a program that counts the number of even and odd numbers in a list using a `for` loop.\n",
    "a=[1,2,3,4,5,6,7,8,9,10]\n",
    "evencount = 0\n",
    "oddcount=0\n",
    "for i in a:\n",
    "    if i %2 ==0:\n",
    "        evencount += 1\n",
    "        \n",
    "    else :\n",
    "        oddcount +=1\n",
    "        \n",
    "print(f\"evencount is {evencount}\")\n",
    "print(f\"oddcount is {oddcount}\")"
   ]
  },
  {
   "cell_type": "code",
   "execution_count": 8,
   "id": "de3295dc",
   "metadata": {},
   "outputs": [
    {
     "name": "stdout",
     "output_type": "stream",
     "text": [
      "square of 1 is 1\n",
      "square of 2 is 4\n",
      "square of 3 is 9\n",
      "square of 4 is 16\n",
      "square of 5 is 25\n"
     ]
    }
   ],
   "source": [
    "# 7. Develop a program that prints the squares of numbers from 1 to 5 using a `for` loop.\n",
    "\n",
    "for i in range(1,6):\n",
    "    square = i*i\n",
    "        \n",
    "    print(f\"square of {i} is {square}\")\n",
    "    "
   ]
  },
  {
   "cell_type": "code",
   "execution_count": 9,
   "id": "bd110d8b",
   "metadata": {},
   "outputs": [
    {
     "name": "stdout",
     "output_type": "stream",
     "text": [
      "1\n",
      "2\n",
      "3\n",
      "4\n",
      "5\n"
     ]
    }
   ],
   "source": [
    "# 8. Create a program to find the length of a string without using the `len()` function.\n",
    "string=(\"hello\")\n",
    "count=0\n",
    "for i in string :\n",
    "    count += 1\n",
    "    print( count)"
   ]
  },
  {
   "cell_type": "code",
   "execution_count": 10,
   "id": "08760e3e",
   "metadata": {},
   "outputs": [
    {
     "name": "stdout",
     "output_type": "stream",
     "text": [
      "the average of the list is:25.0\n"
     ]
    }
   ],
   "source": [
    "# 9. Write a program that calculates the average of a list of numbers using a `for` loop.\n",
    "numbers=[10,20,30,40]\n",
    "total=0\n",
    "count=0\n",
    "for i in numbers:\n",
    "    total += i\n",
    "    count+=1\n",
    "average = total/count\n",
    "print(f\"the average of the list is:{average}\")"
   ]
  },
  {
   "cell_type": "code",
   "execution_count": 11,
   "id": "05e779fd",
   "metadata": {},
   "outputs": [
    {
     "name": "stdout",
     "output_type": "stream",
     "text": [
      "0\n",
      "1\n",
      "1\n",
      "2\n",
      "3\n",
      "5\n",
      "8\n",
      "13\n",
      "21\n",
      "34\n"
     ]
    }
   ],
   "source": [
    "# 10. Develop a program that prints the first `n` Fibonacci numbers using a `for` loop.\n",
    "def fibonacci(n):\n",
    "    if n<=0:\n",
    "        raise ValueError(\"n must be postive integer\")\n",
    "    a,b=0,1\n",
    "    for i in range(n):\n",
    "        yield(a)\n",
    "        a,b=b,a+b\n",
    "n=10\n",
    "\n",
    "for i in fibonacci(n):\n",
    "    print(i)\n",
    "        \n",
    "        "
   ]
  },
  {
   "cell_type": "code",
   "execution_count": 12,
   "id": "fb9ec505",
   "metadata": {},
   "outputs": [
    {
     "name": "stdout",
     "output_type": "stream",
     "text": [
      "True\n",
      "False\n"
     ]
    }
   ],
   "source": [
    "# 11.Write a program to check if a given list contains any duplicates using a `for` loop\n",
    "\n",
    "def has_duplicates(list1):\n",
    "    seen = set()\n",
    "    for item in list1:\n",
    "        if item in seen:\n",
    "            return True\n",
    "        seen.add(item)\n",
    "        \n",
    "    return False\n",
    "\n",
    "list1=[1,2,3,2]\n",
    "list2=[3,4,5]\n",
    "print(has_duplicates(list1))\n",
    "print(has_duplicates(list2))"
   ]
  },
  {
   "cell_type": "code",
   "execution_count": 13,
   "id": "79efe63a",
   "metadata": {},
   "outputs": [
    {
     "name": "stdout",
     "output_type": "stream",
     "text": [
      "Enter the start of the range: 2\n",
      "Enter the end of the range: 10\n",
      "Prime numbers in the range (2, 10):\n",
      "2 3 5 7 "
     ]
    }
   ],
   "source": [
    "# 12. Create a program that prints the prime numbers in a given range using a `for` loop\n",
    "def is_prime(number):\n",
    "    if number < 2:\n",
    "        return False\n",
    "    for i in range(2, int(number**0.5) + 1):\n",
    "        if number % i == 0:\n",
    "            return False\n",
    "    return True\n",
    "\n",
    "def print_primes_in_range(start, end):\n",
    "    print(f\"Prime numbers in the range ({start}, {end}):\")\n",
    "    for num in range(start, end + 1):\n",
    "        if is_prime(num):\n",
    "            print(num, end=\" \")\n",
    "\n",
    "# Example usage:\n",
    "start_range = int(input(\"Enter the start of the range: \"))\n",
    "end_range = int(input(\"Enter the end of the range: \"))\n",
    "\n",
    "print_primes_in_range(start_range, end_range)"
   ]
  },
  {
   "cell_type": "code",
   "execution_count": 14,
   "id": "339943f5",
   "metadata": {},
   "outputs": [
    {
     "name": "stdout",
     "output_type": "stream",
     "text": [
      "2\n"
     ]
    }
   ],
   "source": [
    "# 13. Develop a program that counts the number of vowels in a string using a `for` loop\n",
    "string=(\"hello\")\n",
    "vowels=('a','e','i','o','u','A','E','I','O','U')\n",
    "count =0\n",
    "for i in string:\n",
    "    if i in vowels:\n",
    "        count+=1\n",
    "print(count)\n",
    "        "
   ]
  },
  {
   "cell_type": "code",
   "execution_count": 15,
   "id": "a169291d",
   "metadata": {},
   "outputs": [
    {
     "name": "stdout",
     "output_type": "stream",
     "text": [
      "The maximum element in the 2D list is: 9\n"
     ]
    }
   ],
   "source": [
    "# 14. Write a program to find the maximum element in a 2D list using a nested `for` loop.\n",
    "def find_max_element(matrix):\n",
    "    if not matrix or not matrix[0]:\n",
    "        return None  # Return None for empty lists\n",
    "\n",
    "    max_element = matrix[0][0]\n",
    "\n",
    "    for row in matrix:\n",
    "        for element in row:\n",
    "            if element > max_element:\n",
    "                max_element = element\n",
    "\n",
    "    return max_element\n",
    "\n",
    "# Example usage:\n",
    "matrix = [\n",
    "    [3, 5, 2],\n",
    "    [9, 1, 8],\n",
    "    [4, 7, 6]\n",
    "]\n",
    "\n",
    "max_element = find_max_element(matrix)\n",
    "print(\"The maximum element in the 2D list is:\", max_element)"
   ]
  },
  {
   "cell_type": "code",
   "execution_count": 16,
   "id": "7de182b1",
   "metadata": {},
   "outputs": [
    {
     "name": "stdout",
     "output_type": "stream",
     "text": [
      "[1, 3, 4, 5, 6]\n"
     ]
    }
   ],
   "source": [
    "# 15. Create a program that removes all occurrences of a specific element from a list using a `for` loop\n",
    "def remove_element(list,rem_ele):\n",
    "    res=[]\n",
    "    for ele in list:\n",
    "        if ele != rem_ele:\n",
    "            res.append(ele)\n",
    "    return(res)\n",
    "\n",
    "\n",
    "list=[1,2,3,4,5,6]\n",
    "rem_ele=2\n",
    "\n",
    "filtered_list = remove_element(list,rem_ele)\n",
    "print(filtered_list)\n",
    "\n",
    "            "
   ]
  },
  {
   "cell_type": "code",
   "execution_count": 17,
   "id": "c0359ece",
   "metadata": {},
   "outputs": [
    {
     "name": "stdout",
     "output_type": "stream",
     "text": [
      " 1 x  1 =  1\n",
      " 1 x  2 =  2\n",
      " 1 x  3 =  3\n",
      " 1 x  4 =  4\n",
      " 1 x  5 =  5\n",
      "\n",
      " 2 x  1 =  2\n",
      " 2 x  2 =  4\n",
      " 2 x  3 =  6\n",
      " 2 x  4 =  8\n",
      " 2 x  5 = 10\n",
      "\n",
      " 3 x  1 =  3\n",
      " 3 x  2 =  6\n",
      " 3 x  3 =  9\n",
      " 3 x  4 = 12\n",
      " 3 x  5 = 15\n",
      "\n",
      " 4 x  1 =  4\n",
      " 4 x  2 =  8\n",
      " 4 x  3 = 12\n",
      " 4 x  4 = 16\n",
      " 4 x  5 = 20\n",
      "\n",
      " 5 x  1 =  5\n",
      " 5 x  2 = 10\n",
      " 5 x  3 = 15\n",
      " 5 x  4 = 20\n",
      " 5 x  5 = 25\n",
      "\n"
     ]
    }
   ],
   "source": [
    "#16. Develop a program that generates a multiplication table for numbers from 1 to 5 using a nested `for` loop\n",
    "start=1\n",
    "end =5\n",
    "for i in range(start,end+1):\n",
    "    for j in range(start,end+1):\n",
    "        result = i*j\n",
    "        print(\"{:2} x {:2} = {:2}\".format ( i,j,result))\n",
    "    print()    "
   ]
  },
  {
   "cell_type": "code",
   "execution_count": 18,
   "id": "7dcec2f7",
   "metadata": {},
   "outputs": [
    {
     "name": "stdout",
     "output_type": "stream",
     "text": [
      "fahrenheit temparatures [32, 50, 77, 80, 104]\n",
      "celsius temparatures [0.0, 10.0, 25.0, 26.666666666666668, 40.0]\n"
     ]
    }
   ],
   "source": [
    "# 17. Write a program that converts a list of Fahrenheit temperatures to Celsius using a `for` loop\n",
    "fahrenheit_temps=[32,50,77,80,104]\n",
    "celsius_temps=[]\n",
    "for fahrenheit_temp in fahrenheit_temps:\n",
    "    celsius_temp=(fahrenheit_temp-32)*5/9\n",
    "    celsius_temps.append(celsius_temp)\n",
    "print(f\"fahrenheit temparatures {fahrenheit_temps}\")\n",
    "print(f\"celsius temparatures {celsius_temps}\")"
   ]
  },
  {
   "cell_type": "code",
   "execution_count": 19,
   "id": "7e6a717c",
   "metadata": {},
   "outputs": [
    {
     "name": "stdout",
     "output_type": "stream",
     "text": [
      " common elements from list1 and list2 are [1]\n",
      " common elements from list1 and list2 are [1, 2]\n"
     ]
    }
   ],
   "source": [
    "# 18. Create a program to print the common elements from two lists using a `for` loop\n",
    "l1=[1,2,3,4]\n",
    "l2=[2,1,5,6,7]\n",
    "commonelem=[]\n",
    "for i in l1:\n",
    "    if i in l2 :\n",
    "        commonelem.append(i)\n",
    "        print(f\" common elements from list1 and list2 are {commonelem}\")"
   ]
  },
  {
   "cell_type": "code",
   "execution_count": 20,
   "id": "70a9301c",
   "metadata": {},
   "outputs": [
    {
     "name": "stdout",
     "output_type": "stream",
     "text": [
      "*\n",
      "**\n",
      "***\n",
      "****\n",
      "*****\n"
     ]
    }
   ],
   "source": [
    "# 19. Develop a program that prints the pattern of right-angled triangles using a `for` loop. Use ‘*’ to draw the pattern\n",
    "num_rows = 5\n",
    "for row in range(1,num_rows+1):\n",
    "    print(\"*\" * row )"
   ]
  },
  {
   "cell_type": "code",
   "execution_count": 21,
   "id": "895bad5a",
   "metadata": {},
   "outputs": [
    {
     "name": "stdout",
     "output_type": "stream",
     "text": [
      "the gcd of 48 and 18 is:6\n"
     ]
    }
   ],
   "source": [
    "# 20. Write a program to find the greatest common divisor (GCD) of two numbers using a `for` loop.\n",
    "def find_gcd(a,b):\n",
    "    if a<b:\n",
    "        a,b=b,a\n",
    "    for i in range(b,0,-1):\n",
    "        if a % i ==0 and b %i==0:\n",
    "            gcd = i\n",
    "            break\n",
    "    return gcd\n",
    "\n",
    "num1 = 48\n",
    "num2 = 18\n",
    "result_gcd = find_gcd(num1,num2)\n",
    "print(f\"the gcd of {num1} and {num2} is:{result_gcd}\")"
   ]
  },
  {
   "cell_type": "code",
   "execution_count": 1,
   "id": "11e58221",
   "metadata": {},
   "outputs": [
    {
     "name": "stdout",
     "output_type": "stream",
     "text": [
      "[6, 15, 24]\n"
     ]
    }
   ],
   "source": [
    "# 21.Create a program that calculates the sum of the digits of numbers in a list using a list comprehension.\n",
    "numbers = [123, 456, 789]\n",
    "\n",
    "# Calculate the sum of the digits of each number in the list using a list comprehension\n",
    "sum_of_digits = [sum(int(digit) for digit in str(num)) for num in numbers]\n",
    "\n",
    "print(sum_of_digits)"
   ]
  },
  {
   "cell_type": "code",
   "execution_count": 28,
   "id": "df80e9de",
   "metadata": {},
   "outputs": [
    {
     "name": "stdout",
     "output_type": "stream",
     "text": [
      "The prime factors of 84 are: [2, 3, 7]\n"
     ]
    }
   ],
   "source": [
    "# 22. Write a program to find the prime factors of a given number using a `for` loop and list comprehension.\n",
    "def prime_factors(number):\n",
    "    factors = [i for i in range(2, number + 1) if number % i == 0 and all(i % j != 0 for j in range(2, int(i**0.5) + 1))]\n",
    "    return factors\n",
    "\n",
    "# Example usage:\n",
    "input_number = 84\n",
    "\n",
    "prime_factors_result = prime_factors(input_number)\n",
    "\n",
    "print(f\"The prime factors of {input_number} are:\", prime_factors_result)"
   ]
  },
  {
   "cell_type": "code",
   "execution_count": 66,
   "id": "def7dc39",
   "metadata": {},
   "outputs": [
    {
     "name": "stdout",
     "output_type": "stream",
     "text": [
      "original list: [1, 2, 3, 4, 1, 1, 1, 2, 2, 2, 5, 5, 6, 6]\n",
      "unq ele result: {1, 2, 3, 4, 5, 6}\n",
      "{1, 2, 3, 4, 5, 6}\n"
     ]
    }
   ],
   "source": [
    "#23. Develop a program that extracts unique elements from a list and stores them in a new list using a list comprehension\n",
    "def unique_ele(list1):\n",
    "    return(set(list1))\n",
    "original_list = [1,2,3,4,1,1,1,2,2,2,5,5,6,6]\n",
    "unq_ele_result = unique_ele(original_list)\n",
    "print(f\"original list:\",original_list)\n",
    "print(f\"unq ele result:\",unq_ele_result)\n",
    "\n",
    "a= unq_ele_result\n",
    "print(a)\n"
   ]
  },
  {
   "cell_type": "code",
   "execution_count": null,
   "id": "63f47036",
   "metadata": {},
   "outputs": [],
   "source": []
  },
  {
   "cell_type": "code",
   "execution_count": 37,
   "id": "13bd7724",
   "metadata": {},
   "outputs": [
    {
     "name": "stdout",
     "output_type": "stream",
     "text": [
      "palindromes up to 50:[[1, 2, 3, 4, 5, 6, 7, 8, 9, 11, 22, 33, 44]]\n"
     ]
    }
   ],
   "source": [
    "# 24. Create a program that generates a list of all palindromic numbers up to a specified limit using a list comprehension\n",
    "def palindromes(limit):\n",
    "    palindrome=[\n",
    "        [i for i in range(1,limit+1)\n",
    "        if str(i)==str(i)[::-1]]\n",
    "    ]\n",
    "    return palindrome\n",
    "limit = 50\n",
    "palindrome = palindromes(limit)\n",
    "print(f\"palindromes up to {limit}:{palindrome}\")\n"
   ]
  },
  {
   "cell_type": "code",
   "execution_count": 38,
   "id": "54454862",
   "metadata": {},
   "outputs": [
    {
     "name": "stdout",
     "output_type": "stream",
     "text": [
      "nested list: [[1, 2, 3], [4, 5], [6, 7]]\n",
      "flat list: [1, 2, 3, 4, 5, 6, 7]\n"
     ]
    }
   ],
   "source": [
    "# 25. Write a program to flatten a nested list using list comprehension.\n",
    "nest_list=[[1,2,3],[4,5],[6,7]]\n",
    "flat_list=[i for sublist in nest_list  for i in sublist  ]\n",
    "print(f\"nested list: {nest_list}\")\n",
    "print(f\"flat list: {flat_list}\")"
   ]
  },
  {
   "cell_type": "code",
   "execution_count": 1,
   "id": "e768064e",
   "metadata": {},
   "outputs": [
    {
     "name": "stdout",
     "output_type": "stream",
     "text": [
      "Sum of even numbers: 30\n",
      "Sum of odd numbers: 25\n"
     ]
    }
   ],
   "source": [
    "# 26. Develop a program that computes the sum of even and odd numbers in a list separately using list comprehension       \n",
    "\n",
    "numbers = [1, 2, 3, 4, 5, 6, 7, 8, 9, 10]\n",
    "\n",
    "# Calculate the sum of even and odd numbers using list comprehension\n",
    "sum_of_even = sum(num for num in numbers if num % 2 == 0)\n",
    "sum_of_odd = sum(num for num in numbers if num % 2 != 0)\n",
    "\n",
    "print(\"Sum of even numbers:\", sum_of_even)\n",
    "print(\"Sum of odd numbers:\", sum_of_odd)"
   ]
  },
  {
   "cell_type": "code",
   "execution_count": null,
   "id": "62491275",
   "metadata": {},
   "outputs": [],
   "source": []
  },
  {
   "cell_type": "code",
   "execution_count": 41,
   "id": "6fd1b414",
   "metadata": {},
   "outputs": [
    {
     "name": "stdout",
     "output_type": "stream",
     "text": [
      "squares of odd numbers between 1 and 10  [1, 9, 25, 49, 81]\n"
     ]
    }
   ],
   "source": [
    "#27. Create a program that generates a list of squares of odd numbers between 1 and 10 using list comprehension.\n",
    "odd_no = range(1,11,2)\n",
    "squares = [n**2 for  n in odd_no]\n",
    "print(f\"squares of odd numbers between 1 and 10 \",squares)\n"
   ]
  },
  {
   "cell_type": "code",
   "execution_count": 42,
   "id": "d72fa817",
   "metadata": {},
   "outputs": [
    {
     "name": "stdout",
     "output_type": "stream",
     "text": [
      "{'a': 10, 'b': 20, 'c': 30, 'd': 40}\n"
     ]
    }
   ],
   "source": [
    "# 28.Write a program that combines two lists into a dictionary using list comprehension.\n",
    "names =[\"a\",\"b\",\"c\",\"d\"]\n",
    "age =[10,20,30,40]\n",
    "combined_dict = {name: age for name, age in zip(names,age) }\n",
    "print(combined_dict)"
   ]
  },
  {
   "cell_type": "code",
   "execution_count": 43,
   "id": "d54df000",
   "metadata": {},
   "outputs": [
    {
     "name": "stdout",
     "output_type": "stream",
     "text": [
      "['i', 'i', 'a', 'o', 'a']\n"
     ]
    }
   ],
   "source": [
    "#29.Develop a program that extracts the vowels from a string and stores them in a list using list comprehension\n",
    "text = \"this is a program\"\n",
    "vowels=(\"a\",\"e\",\"i\",\"o\",\"u\")\n",
    "extracted_txt=[i for i in text.lower() if i in vowels]\n",
    "print(extracted_txt)"
   ]
  },
  {
   "cell_type": "code",
   "execution_count": 44,
   "id": "76b7262b",
   "metadata": {},
   "outputs": [
    {
     "name": "stdout",
     "output_type": "stream",
     "text": [
      "['123', '456', '789']\n"
     ]
    }
   ],
   "source": [
    "# 30. Create a program that removes all non-numeric characters from a list of strings using list comprehension\n",
    "strings = ['123abc' , '456def' , '789ghi']\n",
    "allowed_char =set(\"0123456789\")\n",
    "numeric_strings=[\"\".join(char for char in string if char in allowed_char) for string in strings]\n",
    "print(numeric_strings)"
   ]
  },
  {
   "cell_type": "code",
   "execution_count": 45,
   "id": "082d0c62",
   "metadata": {},
   "outputs": [
    {
     "name": "stdout",
     "output_type": "stream",
     "text": [
      "[2, 3, 5, 6, 7, 8, 9, 10, 11, 12, 13, 14, 15, 16, 17, 18, 19, 20, 21, 22, 23, 24, 25, 26, 27, 28, 29, 30, 31, 32, 33, 34, 35, 36, 37, 38, 39, 40, 41, 42, 43, 44, 45, 46, 47, 48, 49, 50, 51, 52, 53, 54, 55, 56, 57, 58, 59, 60, 61, 62, 63, 64, 65, 66, 67, 68, 69, 70, 71, 72, 73, 74, 75, 76, 77, 78, 79, 80, 81, 82, 83, 84, 85, 86, 87, 88, 89, 90, 91, 92, 93, 94, 95, 96, 97, 98, 99, 100]\n"
     ]
    }
   ],
   "source": [
    "#31. Write a program to generate a list of prime numbers using the Sieve of Eratosthenes algorithm and list comprehension.\n",
    "def sieve_of_eratosthenes(n):\n",
    "    primes = [True] * (n+1)\n",
    "    primes[0]=primes[1]=False \n",
    "    for i in range(2,int(n**0.5),+1):\n",
    "        \n",
    "        if primes[i]:\n",
    "            \n",
    "            \n",
    "            for j in range(i*i,n+1,i):\n",
    "                \n",
    "                primes[j]= False\n",
    "                return [i for i,is_prime in  enumerate(primes) if is_prime]\n",
    "    \n",
    "primes=sieve_of_eratosthenes(100)\n",
    "print(primes)\n",
    "        "
   ]
  },
  {
   "cell_type": "code",
   "execution_count": 46,
   "id": "801b2374",
   "metadata": {},
   "outputs": [
    {
     "name": "stdout",
     "output_type": "stream",
     "text": [
      "(3, 4, 5)\n",
      "(5, 12, 13)\n",
      "(6, 8, 10)\n",
      "(7, 24, 25)\n",
      "(8, 15, 17)\n",
      "(9, 12, 15)\n",
      "(9, 40, 41)\n",
      "(10, 24, 26)\n",
      "(11, 60, 61)\n",
      "(12, 16, 20)\n",
      "(12, 35, 37)\n",
      "(13, 84, 85)\n",
      "(14, 48, 50)\n",
      "(15, 20, 25)\n",
      "(15, 36, 39)\n",
      "(16, 30, 34)\n",
      "(16, 63, 65)\n",
      "(18, 24, 30)\n",
      "(18, 80, 82)\n",
      "(20, 21, 29)\n",
      "(20, 48, 52)\n",
      "(21, 28, 35)\n",
      "(21, 72, 75)\n",
      "(24, 32, 40)\n",
      "(24, 45, 51)\n",
      "(24, 70, 74)\n",
      "(25, 60, 65)\n",
      "(27, 36, 45)\n",
      "(28, 45, 53)\n",
      "(28, 96, 100)\n",
      "(30, 40, 50)\n",
      "(30, 72, 78)\n",
      "(32, 60, 68)\n",
      "(33, 44, 55)\n",
      "(33, 56, 65)\n",
      "(35, 84, 91)\n",
      "(36, 48, 60)\n",
      "(36, 77, 85)\n",
      "(39, 52, 65)\n",
      "(39, 80, 89)\n",
      "(40, 42, 58)\n",
      "(40, 75, 85)\n",
      "(42, 56, 70)\n",
      "(45, 60, 75)\n",
      "(48, 55, 73)\n",
      "(48, 64, 80)\n",
      "(51, 68, 85)\n",
      "(54, 72, 90)\n",
      "(57, 76, 95)\n",
      "(60, 63, 87)\n",
      "(60, 80, 100)\n",
      "(65, 72, 97)\n"
     ]
    }
   ],
   "source": [
    "# 32. Create a program that generates a list of all Pythagorean triplets up to a specified limit using list comprehension\n",
    "def pythagorean_triplets(limit):\n",
    "    \n",
    "\n",
    "            return [(a, b, c) for a in range(1, limit + 1)\n",
    "                 for b in range(a, limit + 1)\n",
    "                 for c in range(b, limit + 1)\n",
    "                 if a**2 + b**2 == c**2]\n",
    "\n",
    "# Generate Pythagorean triplets up to 100\n",
    "triplets = pythagorean_triplets(100)\n",
    "\n",
    "# Print the list of triplets\n",
    "for a, b, c in triplets:\n",
    " print(f\"({a}, {b}, {c})\")"
   ]
  },
  {
   "cell_type": "code",
   "execution_count": 49,
   "id": "caf0a5ee",
   "metadata": {},
   "outputs": [
    {
     "name": "stdout",
     "output_type": "stream",
     "text": [
      "combinations of ['a', 'b', 'c'] and [1, 2, 3]\n",
      "(a,1)\n",
      "(a,2)\n",
      "(a,3)\n",
      "(b,1)\n",
      "(b,2)\n",
      "(b,3)\n",
      "(c,1)\n",
      "(c,2)\n",
      "(c,3)\n"
     ]
    }
   ],
   "source": [
    "# 33. Develop a program that generates a list of all possible combinations of two lists using list comprehension\n",
    "def list_combination(list1,list2):\n",
    "    return [(a,b) for a in list1 for b in list2]\n",
    "    \n",
    "        \n",
    "list1=[\"a\",\"b\",\"c\"]\n",
    "list2=[1,2,3]\n",
    "combination = list_combination(list1,list2)\n",
    "print(f\"combinations of {list1} and {list2}\")\n",
    "for a,b in combination:\n",
    "    \n",
    "    print(f\"({a},{b})\")"
   ]
  },
  {
   "cell_type": "code",
   "execution_count": 2,
   "id": "3f131a72",
   "metadata": {},
   "outputs": [
    {
     "name": "stdout",
     "output_type": "stream",
     "text": [
      "Mean: 4.555555555555555\n",
      "Median: 5\n",
      "Mode: 5\n"
     ]
    }
   ],
   "source": [
    "#34. Write a program that calculates the mean, median, and mode of a list of numbers using list comprehension.\n",
    "def statistics(data):\n",
    "    mean = sum(data)/len(data)\n",
    "    data.sort()\n",
    "    median=data[len(data) // 2] if len(data) % 2 else (data[len(data) // 2 - 1] + data[len(data) // 2]) / 2\n",
    "    from collections import Counter\n",
    "    mode = Counter(data).most_common(1)[0][0] if Counter(data).most_common(1) else None\n",
    "\n",
    "    return {\"mean\": mean, \"median\": median, \"mode\": mode}\n",
    "\n",
    "# Example usage\n",
    "data = [1, 2, 3, 4, 5, 5, 6, 7, 8]\n",
    "\n",
    "statistics = statistics(data)\n",
    "\n",
    "print(f\"Mean: {statistics['mean']}\")\n",
    "print(f\"Median: {statistics['median']}\")\n",
    "print(f\"Mode: {statistics['mode']}\")"
   ]
  },
  {
   "cell_type": "code",
   "execution_count": 51,
   "id": "d22c25ae",
   "metadata": {},
   "outputs": [
    {
     "name": "stdout",
     "output_type": "stream",
     "text": [
      "1\n",
      "1 1\n",
      "1 2 1\n",
      "1 3 3 1\n",
      "1 4 6 4 1\n"
     ]
    }
   ],
   "source": [
    "#35. Create a program that generates Pascal's triangle up to a specified number of rows using list comprehension\n",
    "def pascal_triangle(num_rows):\n",
    "    triangle = [[1] for _ in range(num_rows)]\n",
    "    for i in range(1, num_rows):\n",
    "        \n",
    "        for j in range(1, i + 1):\n",
    "            \n",
    "            triangle[i].append(triangle[i - 1][j - 1] + (triangle[i - 1][j] if j < i else 0))\n",
    "    return triangle\n",
    "\n",
    "# Example usage\n",
    "num_rows = 5\n",
    "\n",
    "pascal_triangle = pascal_triangle(num_rows)\n",
    "\n",
    "for row in pascal_triangle:\n",
    "    print(\" \".join(str(x) for x in row))"
   ]
  },
  {
   "cell_type": "code",
   "execution_count": 3,
   "id": "6c56b4d9",
   "metadata": {},
   "outputs": [
    {
     "name": "stdout",
     "output_type": "stream",
     "text": [
      "Factorial of 1: 1, Sum of digits : 1\n",
      "Factorial of 2: 2, Sum of digits : 2\n",
      "Factorial of 3: 6, Sum of digits : 6\n",
      "Factorial of 4: 24, Sum of digits : 6\n",
      "Factorial of 5: 120, Sum of digits : 3\n"
     ]
    }
   ],
   "source": [
    "# 36. Develop a program that calculates the sum of the digits of a factorial of numbers from 1 to 5 using list comprehension.\n",
    "from math import factorial\n",
    "factorials = [factorial(i) for i in range(1,6)]\n",
    "\n",
    "digit_sums =  [sum(int(digit) for digit in str(factorial)) for factorial in factorials]\n",
    "\n",
    "for i,factorial in enumerate(factorials):\n",
    "    print(f\"Factorial of {i+1}: {factorial}, Sum of digits : {digit_sums[i]}\")\n"
   ]
  },
  {
   "cell_type": "code",
   "execution_count": 53,
   "id": "2912f8db",
   "metadata": {},
   "outputs": [
    {
     "name": "stdout",
     "output_type": "stream",
     "text": [
      "the longest word in sentence is :quick\n"
     ]
    }
   ],
   "source": [
    "#37.Write a program that finds the longest word in a sentence using list comprehension.\n",
    "sentence = \" the quick brown fox jumps over the lazy dog\"\n",
    "words = sentence.split()\n",
    "long_word = max(words,key=len)\n",
    "print(f\"the longest word in sentence is :{long_word}\")"
   ]
  },
  {
   "cell_type": "code",
   "execution_count": 4,
   "id": "bcc83f97",
   "metadata": {},
   "outputs": [
    {
     "name": "stdout",
     "output_type": "stream",
     "text": [
      "Words with more than 3 vowels: pineapple, grapefruit\n"
     ]
    }
   ],
   "source": [
    "# 38. Create a program that filters a list of strings to include only those with more than three vowels using list comprehension\n",
    "words = [\"apple\", \"banana\", \"orange\", \"pineapple\", \"grapefruit\", \"kiwi\", \"mango\"]\n",
    "\n",
    "vowels = \"aeiou\"\n",
    "\n",
    "filtered_words = [word for word in words if sum(letter in vowels for letter in word.lower()) > 3]\n",
    "\n",
    "print(f\"Words with more than 3 vowels: {', '.join(filtered_words)}\")"
   ]
  },
  {
   "cell_type": "code",
   "execution_count": 5,
   "id": "66dbbe51",
   "metadata": {},
   "outputs": [
    {
     "name": "stdout",
     "output_type": "stream",
     "text": [
      "The sum of the digits of numbers from 1 to 1000 is: 13501\n"
     ]
    }
   ],
   "source": [
    "# 39. Develop a program that calculates the sum of the digits of numbers from 1 to 1000 using list comprehension.\n",
    "def sum_digits(n):\n",
    "  return sum(int(digit) for digit in str(n))\n",
    "\n",
    "# Generate a list of numbers from 1 to 1000\n",
    "numbers = range(1, 1001)\n",
    "\n",
    "# Calculate the sum of digits for each number using list comprehension\n",
    "digit_sums = [sum_digits(number) for number in numbers]\n",
    "\n",
    "# Calculate the total sum of digits\n",
    "total_sum = sum(digit_sums)\n",
    "\n",
    "# Print the total sum of digits\n",
    "print(f\"The sum of the digits of numbers from 1 to 1000 is: {total_sum}\")"
   ]
  },
  {
   "cell_type": "code",
   "execution_count": 56,
   "id": "aae2f872",
   "metadata": {},
   "outputs": [
    {
     "name": "stdout",
     "output_type": "stream",
     "text": [
      "Prime palindromic numbers: 2, 3, 5, 7, 11, 101, 131, 151, 181, 191, 313, 353, 373, 383, 727, 757, 787, 797, 919, 929\n"
     ]
    }
   ],
   "source": [
    "#40. Write a program that generates a list of prime palindromic numbers using list comprehension.\n",
    "\n",
    "def is_prime(n):\n",
    " \"\"\"\n",
    " Checks if a number is prime.\n",
    "\n",
    " Args:\n",
    "   n: An integer.\n",
    "\n",
    " Returns:\n",
    "   True if n is prime, False otherwise.\n",
    " \"\"\"\n",
    " if n <= 1:\n",
    "   return False\n",
    " for i in range(2, int(n**0.5) + 1):\n",
    "   if n % i == 0:\n",
    "     return False\n",
    " return True\n",
    "\n",
    "def is_palindrome(n):\n",
    " \"\"\"\n",
    " Checks if a number is a palindrome.\n",
    "\n",
    " Args:\n",
    "   n: An integer.\n",
    "\n",
    " Returns:\n",
    "   True if n is a palindrome, False otherwise.\n",
    " \"\"\"\n",
    " original = n\n",
    " reversed_num = 0\n",
    " while n > 0:\n",
    "   digit = n % 10\n",
    "   reversed_num = reversed_num * 10 + digit\n",
    "   n //= 10\n",
    " return original == reversed_num\n",
    "\n",
    "# Generate a list of prime palindromic numbers\n",
    "prime_palindromes = [n for n in range(1, 10000) if is_prime(n) and is_palindrome(n)]\n",
    "\n",
    "# Print the list of prime palindromic numbers\n",
    "print(f\"Prime palindromic numbers: {', '.join(str(n) for n in prime_palindromes)}\")"
   ]
  },
  {
   "cell_type": "code",
   "execution_count": null,
   "id": "f73aabd9",
   "metadata": {},
   "outputs": [],
   "source": []
  }
 ],
 "metadata": {
  "kernelspec": {
   "display_name": "Python 3 (ipykernel)",
   "language": "python",
   "name": "python3"
  },
  "language_info": {
   "codemirror_mode": {
    "name": "ipython",
    "version": 3
   },
   "file_extension": ".py",
   "mimetype": "text/x-python",
   "name": "python",
   "nbconvert_exporter": "python",
   "pygments_lexer": "ipython3",
   "version": "3.11.5"
  }
 },
 "nbformat": 4,
 "nbformat_minor": 5
}
