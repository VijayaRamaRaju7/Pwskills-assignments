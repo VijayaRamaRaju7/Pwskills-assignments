{
 "cells": [
  {
   "cell_type": "code",
   "execution_count": 4,
   "id": "4f30d63f",
   "metadata": {},
   "outputs": [
    {
     "name": "stdout",
     "output_type": "stream",
     "text": [
      "Move disk1 from source to destination\n",
      "move disk 2 from source to auxilary\n",
      "Move disk1 from destination to auxilary\n",
      "move disk 3 from source to destination\n",
      "Move disk1 from auxilary to source\n",
      "move disk 2 from auxilary to destination\n",
      "Move disk1 from source to destination\n"
     ]
    }
   ],
   "source": [
    "# Q 1.Can you explain the logic and working of the Tower of Hanoi algorithm by writing a Java program?\n",
    "# How does the recursion work, and how are the movements of disks between rods accomplished?\n",
    "def tower_of_hanoi(n,source,auxilary,destination):\n",
    "    if n== 1:\n",
    "        print(f\"Move disk1 from {source} to {destination}\")\n",
    "        return\n",
    "    tower_of_hanoi(n-1,source,destination,auxilary)\n",
    "    print(f\"move disk {n} from {source} to {destination}\")\n",
    "    tower_of_hanoi(n-1,auxilary,source,destination)\n",
    "    \n",
    "n=3\n",
    "tower_of_hanoi(n,'source','auxilary','destination')\n"
   ]
  },
  {
   "cell_type": "code",
   "execution_count": 5,
   "id": "881e51f9",
   "metadata": {},
   "outputs": [
    {
     "name": "stdout",
     "output_type": "stream",
     "text": [
      "3\n",
      "5\n"
     ]
    }
   ],
   "source": [
    "# Q.2 Given two strings word1 and word2, return the minimum number of operations required to convert word1\n",
    "# to word2.\n",
    "# Example 1:\n",
    "# Input: word1 = \"horse\", word2 = \"ros\"\n",
    "# Output: 3\n",
    "# Explanation:\n",
    "# horse -> rorse (replace 'h' with 'r')\n",
    "# rorse -> rose (remove 'r')\n",
    "# rose -> ros (remove 'e')\n",
    "# Example 2:\n",
    "# Input: word1 = \"intention\", word2 = \"execution\"\n",
    "# Output: 5\n",
    "# Explanation:\n",
    "# intention -> inention (remove 't')\n",
    "# inention -> enention (replace 'i' with 'e')\n",
    "# enention -> exention (replace 'n' with 'x')\n",
    "# exention -> exection (replace 'n' with 'c')\n",
    "# exection -> execution (insert 'u')\n",
    "\n",
    "\n",
    "def minDistance(word1, word2):\n",
    "        \"\"\"\n",
    "        :type word1: str\n",
    "        :type word2: str\n",
    "        \"\"\"\n",
    "        m = len(word1)\n",
    "        n = len(word2)\n",
    "        \n",
    "        # Create a 2D DP table to store the minimum edit distance\n",
    "        dp = [[0 for _ in range(n + 1)] for _ in range(m + 1)]\n",
    "        \n",
    "        # Fill the base cases\n",
    "        for i in range(m + 1):\n",
    "            dp[i][0] = i  # If word2 is empty, we need to insert i characters from word1\n",
    "        for j in range(n + 1):\n",
    "            dp[0][j] = j  # If word1 is empty, we need to insert j characters from word2\n",
    "        \n",
    "        # Fill the DP table\n",
    "        for i in range(1, m + 1):\n",
    "            for j in range(1, n + 1):\n",
    "                if word1[i - 1] == word2[j - 1]:\n",
    "                    # No change needed, so the distance remains the same\n",
    "                    dp[i][j] = dp[i - 1][j - 1]\n",
    "                else:\n",
    "                    # Minimum of the three operations: insert, delete, replace\n",
    "                    dp[i][j] = min(dp[i - 1][j] + 1,  # Insert\n",
    "                                  dp[i][j - 1] + 1,  # Delete\n",
    "                                  dp[i - 1][j - 1] + 1)  # Replace\n",
    "        \n",
    "        return dp[m][n]\n",
    "\n",
    "# Example usage\n",
    "word1 = \"horse\"\n",
    "word2 = \"ros\"\n",
    "print(minDistance(word1, word2))  # Output: 3\n",
    "\n",
    "word1 = \"intention\"\n",
    "word2 = \"execution\"\n",
    "print(minDistance(word1, word2))  # Output: 5"
   ]
  },
  {
   "cell_type": "code",
   "execution_count": 6,
   "id": "852e01f1",
   "metadata": {},
   "outputs": [
    {
     "data": {
      "text/plain": [
       "22"
      ]
     },
     "execution_count": 6,
     "metadata": {},
     "output_type": "execute_result"
    }
   ],
   "source": [
    "# Q. 3 Print the max value of the array [ 13, 1, -3, 22, 5].\n",
    "arr=[13,1,-3,22,5]\n",
    "max(arr)"
   ]
  },
  {
   "cell_type": "code",
   "execution_count": 7,
   "id": "be2c9f45",
   "metadata": {},
   "outputs": [
    {
     "data": {
      "text/plain": [
       "120"
      ]
     },
     "execution_count": 7,
     "metadata": {},
     "output_type": "execute_result"
    }
   ],
   "source": [
    "# Q.4 Find the sum of the values of the array [92, 23, 15, -20, 10].\n",
    "array =[92, 23, 15, -20, 10]\n",
    "sum(array)"
   ]
  },
  {
   "cell_type": "code",
   "execution_count": 9,
   "id": "9e160b99",
   "metadata": {},
   "outputs": [
    {
     "name": "stdout",
     "output_type": "stream",
     "text": [
      "True\n",
      "False\n"
     ]
    }
   ],
   "source": [
    "# # Q.5Given a number n. Print if it is an armstrong number or not.An armstrong number is a number if the sum\n",
    "# of every digit in that number raised to the power of total digits in that number is equal to the number.\n",
    "# Example : 153 = 1^3 + 5^3 + 3^3 = 1 + 125 + 27 = 153 hence 153 is an armstrong number. (Easy)\n",
    "# Input1 : 153\n",
    "# Output1 : Yes\n",
    "# Input 2 : 134\n",
    "# Output2 : No\n",
    "\n",
    "def is_armstrong(n):\n",
    "  \"\"\"\n",
    "  This function checks if a number is an Armstrong number.\n",
    "\n",
    "  Args:\n",
    "    n: The number to check.\n",
    "\n",
    "  Returns:\n",
    "    True if the number is an Armstrong number, False otherwise.\n",
    "  \"\"\"\n",
    "\n",
    "  # Convert the number to a string and get the number of digits.\n",
    "  num_str = str(n)\n",
    "  num_digits = len(num_str)\n",
    "\n",
    "  # Calculate the sum of each digit raised to the power of the number of digits.\n",
    "  sum_of_digits = 0\n",
    "  for digit in num_str:\n",
    "    sum_of_digits += int(digit) ** num_digits\n",
    "\n",
    "  # Return True if the sum is equal to the original number, False otherwise.\n",
    "  return sum_of_digits == n\n",
    "\n",
    "# Test cases\n",
    "print(is_armstrong(153))  # True\n",
    "print(is_armstrong(134))  # False\n"
   ]
  },
  {
   "cell_type": "code",
   "execution_count": null,
   "id": "bb15ec1e",
   "metadata": {},
   "outputs": [],
   "source": []
  }
 ],
 "metadata": {
  "kernelspec": {
   "display_name": "Python 3 (ipykernel)",
   "language": "python",
   "name": "python3"
  },
  "language_info": {
   "codemirror_mode": {
    "name": "ipython",
    "version": 3
   },
   "file_extension": ".py",
   "mimetype": "text/x-python",
   "name": "python",
   "nbconvert_exporter": "python",
   "pygments_lexer": "ipython3",
   "version": "3.11.5"
  }
 },
 "nbformat": 4,
 "nbformat_minor": 5
}
