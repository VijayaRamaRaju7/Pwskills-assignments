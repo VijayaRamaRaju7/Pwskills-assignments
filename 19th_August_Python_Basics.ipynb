{
 "cells": [
  {
   "cell_type": "code",
   "execution_count": 1,
   "id": "8dc9b670",
   "metadata": {},
   "outputs": [
    {
     "name": "stdout",
     "output_type": "stream",
     "text": [
      "1 2\n"
     ]
    }
   ],
   "source": [
    "# python basic variables\n",
    "# 1\n",
    "#Assigning value to variables x,y\n",
    "x,y = 1,2\n",
    "print(x,y)"
   ]
  },
  {
   "cell_type": "code",
   "execution_count": 2,
   "id": "7db622c0",
   "metadata": {},
   "outputs": [
    {
     "name": "stdout",
     "output_type": "stream",
     "text": [
      "value of x and y after swapping are 2 and 1\n"
     ]
    }
   ],
   "source": [
    "# Swapping the values of x and y\n",
    "x,y = y,x\n",
    "print('value of x and y after swapping are',x,'and',y)"
   ]
  },
  {
   "cell_type": "code",
   "execution_count": 3,
   "id": "3ae00a7e",
   "metadata": {},
   "outputs": [
    {
     "name": "stdout",
     "output_type": "stream",
     "text": [
      "Enter length: 5\n",
      "Enter width: 5\n",
      "area of rectangle is: 25\n"
     ]
    }
   ],
   "source": [
    "# 2\n",
    "# area of rectangle\n",
    "\n",
    "length = int(input(\"Enter length: \"))\n",
    "width = int(input(\"Enter width: \"))\n",
    "area = length * width\n",
    "print(\"area of rectangle is:\", area)\n"
   ]
  },
  {
   "cell_type": "code",
   "execution_count": 4,
   "id": "0dff80b4",
   "metadata": {},
   "outputs": [
    {
     "name": "stdout",
     "output_type": "stream",
     "text": [
      "Enter temparature in celsius :56.7\n",
      "Temparature in Fahrenheit 134.06\n"
     ]
    }
   ],
   "source": [
    "# 3\n",
    "# Celcius to Fahrenheit\n",
    "celsius = float(input(\"Enter temparature in celsius :\"))\n",
    "fahrenheit = (celsius * 1.8) + 32\n",
    "print(\"Temparature in Fahrenheit\",fahrenheit)"
   ]
  },
  {
   "cell_type": "code",
   "execution_count": 5,
   "id": "5988a9d4",
   "metadata": {},
   "outputs": [
    {
     "name": "stdout",
     "output_type": "stream",
     "text": [
      "Enter the string :ggghgh\n",
      "6\n"
     ]
    }
   ],
   "source": [
    "# String based questions\n",
    "# 1\n",
    "# length of string\n",
    "string = str(input(\"Enter the string :\"))\n",
    "print(len(string))"
   ]
  },
  {
   "cell_type": "code",
   "execution_count": 6,
   "id": "06e351ab",
   "metadata": {},
   "outputs": [
    {
     "name": "stdout",
     "output_type": "stream",
     "text": [
      "Enter the string :gdsaei\n",
      "gdsaei\n",
      "number of vowels in given sentence is: 3\n"
     ]
    }
   ],
   "source": [
    "# 2\n",
    "# count vowels in string\n",
    "string = str(input(\"Enter the string :\"))\n",
    "string1 = string.lower()\n",
    "print(string)\n",
    "count = 0\n",
    "list1 = [\"a\",\"e\",\"i\",\"o\",\"u\"]\n",
    "for char in string1:\n",
    "    if char in list1:\n",
    "        count = count+1\n",
    "        \n",
    "print(\"number of vowels in given sentence is:\",count)"
   ]
  },
  {
   "cell_type": "code",
   "execution_count": 11,
   "id": "fefb581b",
   "metadata": {},
   "outputs": [
    {
     "name": "stdout",
     "output_type": "stream",
     "text": [
      "Enter the string :vijay\n",
      "yajiv\n"
     ]
    }
   ],
   "source": [
    "# 3\n",
    "# string reverse using string slicing\n",
    "s = str(input(\"Enter the string :\"))\n",
    "my_str = s[::-1]\n",
    "print(my_str)"
   ]
  },
  {
   "cell_type": "code",
   "execution_count": 14,
   "id": "dc71dc77",
   "metadata": {},
   "outputs": [
    {
     "name": "stdout",
     "output_type": "stream",
     "text": [
      "enter a string:vijay\n",
      "vijay is not a palindrome\n"
     ]
    }
   ],
   "source": [
    "# 4\n",
    "# palindrome or not\n",
    "n = input(\"enter a string:\")\n",
    "if n == n[::-1]:\n",
    "    print(n+ \" is a palindrome\")\n",
    "else:\n",
    "     print(n+ \" is not a palindrome\")"
   ]
  },
  {
   "cell_type": "code",
   "execution_count": 16,
   "id": "2cd94c16",
   "metadata": {},
   "outputs": [
    {
     "name": "stdout",
     "output_type": "stream",
     "text": [
      "enter a string:vbb   vb b\n",
      "vbbvbb\n"
     ]
    }
   ],
   "source": [
    "# 5\n",
    "# remove spaces\n",
    "string = input(\"enter a string:\")\n",
    "new_string = \"\".join(string.split())\n",
    "print(new_string)"
   ]
  },
  {
   "cell_type": "code",
   "execution_count": null,
   "id": "ea9be03c",
   "metadata": {},
   "outputs": [],
   "source": []
  }
 ],
 "metadata": {
  "kernelspec": {
   "display_name": "Python 3 (ipykernel)",
   "language": "python",
   "name": "python3"
  },
  "language_info": {
   "codemirror_mode": {
    "name": "ipython",
    "version": 3
   },
   "file_extension": ".py",
   "mimetype": "text/x-python",
   "name": "python",
   "nbconvert_exporter": "python",
   "pygments_lexer": "ipython3",
   "version": "3.11.3"
  }
 },
 "nbformat": 4,
 "nbformat_minor": 5
}
